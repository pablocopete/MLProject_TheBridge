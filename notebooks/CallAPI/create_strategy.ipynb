{
 "cells": [
  {
   "cell_type": "code",
   "execution_count": 1,
   "id": "9a6129d1",
   "metadata": {},
   "outputs": [],
   "source": [
    "from google import genai\n",
    "from google.genai import types\n",
    "from dotenv import load_dotenv\n",
    "import os"
   ]
  },
  {
   "cell_type": "code",
   "execution_count": 2,
   "id": "58291354",
   "metadata": {},
   "outputs": [
    {
     "data": {
      "text/plain": [
       "True"
      ]
     },
     "execution_count": 2,
     "metadata": {},
     "output_type": "execute_result"
    }
   ],
   "source": [
    "load_dotenv('../../.env')"
   ]
  },
  {
   "cell_type": "code",
   "execution_count": 14,
   "id": "ade054e7",
   "metadata": {},
   "outputs": [],
   "source": [
    "context_prompt =\"\"\" START OF CONTEXT\n",
    "You are an AI assistant specializing in customer retention and marketing. Your task is to generate highly personalized and actionable strategies to prevent customer churn, leveraging provided customer data and their predicted churn risk.\n",
    "\n",
    "Given the following customer information and their predicted churn risk category, propose specific, tailored actions for retention. Focus on practical, implementable strategies that address the customer's unique profile and potential pain points. Consider the customer's demographics, membership details, website activity (duration, frequency), reported grievances, and feedback.\n",
    "We know the most important factors for customer retention are the membership type (the more basic the membership, the higher the curn rate), the amount of points they have in their wallet and the kind of feedback they leave\n",
    "\n",
    "**Output Format:**\n",
    "\n",
    "Provide a JSON object with the following structure:\n",
    "\n",
    "```json\n",
    "{\n",
    "  \"churn_risk_category\": \"[[CHURN_RISK_CATEGORY]]\",\n",
    "  \"customer_id\": \"[[CUSTOMER_ID]]\",\n",
    "  \"retention_strategy_title\": \"[[CONCISE_TITLE_FOR_STRATEGY]]\",\n",
    "  \"retention_actions\": [\n",
    "    {\n",
    "      \"action_type\": \"[[TYPE_OF_ACTION_E.G._COMMUNICATION_OFFER_SUPPORT]]\",\n",
    "      \"description\": \"[[DETAILED_DESCRIPTION_OF_ACTION]]\",\n",
    "      \"priority\": \"[[HIGH_MEDIUM_LOW]]\",\n",
    "      \"personalized_elements\": [\n",
    "        \"[[SPECIFIC_PERSONALIZATION_DETAIL_1]]\",\n",
    "        \"[[SPECIFIC_PERSONALIZATION_DETAIL_2]]\"\n",
    "      ]\n",
    "    }\n",
    "    // Add more action objects as needed\n",
    "  ],\n",
    "  \"justification\": \"[[BRIEF_EXPLANATION_WHY_THESE_ACTIONS_ARE_SUITABLE_BASED_ON_DATA]]\"\n",
    "  \"email proposal\": \"[[BRIEF_EMAIL_WITH_SUITABLE_ACTIONS_AND_OFFERS]]\"\n",
    "}\n",
    "END OF CONTEXT\"\"\""
   ]
  },
  {
   "cell_type": "code",
   "execution_count": 15,
   "id": "88b2b168",
   "metadata": {},
   "outputs": [],
   "source": [
    "input_prompt = \"A male 28 years old client, high risk. He has left a negative feedback with Poor quality items. \""
   ]
  },
  {
   "cell_type": "code",
   "execution_count": 20,
   "id": "b95710c9",
   "metadata": {},
   "outputs": [],
   "source": [
    "client = genai.Client(api_key=os.getenv('GEMINI_API_KEY'))\n",
    "response = client.models.generate_content(\n",
    "    model='gemini-2.5-flash',\n",
    "    contents=context_prompt + input_prompt,\n",
    "    config=types.GenerateContentConfig(\n",
    "        thinking_config=types.ThinkingConfig(thinking_budget=300),\n",
    "        max_output_tokens=1300,\n",
    "    ),\n",
    ")"
   ]
  },
  {
   "cell_type": "code",
   "execution_count": 21,
   "id": "67e51364",
   "metadata": {},
   "outputs": [
    {
     "name": "stdout",
     "output_type": "stream",
     "text": [
      "```json\n",
      "{\n",
      "  \"churn_risk_category\": \"High Risk\",\n",
      "  \"customer_id\": \"Not Provided\",\n",
      "  \"retention_strategy_title\": \"Proactive Quality Assurance & Re-engagement for Dissatisfied Customer\",\n",
      "  \"retention_actions\": [\n",
      "    {\n",
      "      \"action_type\": \"Communication & Support\",\n",
      "      \"description\": \"Initiate a direct, personalized outreach (e.g., phone call or high-priority email) from a customer success manager or quality assurance specialist. Acknowledge his specific feedback regarding 'Poor quality items' and express sincere regret. The goal is to understand the exact nature of the quality issue, which items were affected, and the impact.\",\n",
      "      \"priority\": \"HIGH\",\n",
      "      \"personalized_elements\": [\n",
      "        \"Acknowledge 'Poor quality items' feedback directly.\",\n",
      "        \"Focus on understanding the specific product and issue.\"\n",
      "      ]\n",
      "    },\n",
      "    {\n",
      "      \"action_type\": \"Offer & Resolution\",\n",
      "      \"description\": \"Based on the detailed feedback, offer a resolution that directly addresses the quality issue. This could be a full refund for the affected items, a replacement of superior quality, or a significant credit towards future purchases. This must be presented as a genuine effort to make amends and restore trust in the product quality.\",\n",
      "      \"priority\": \"HIGH\",\n",
      "      \"personalized_elements\": [\n",
      "        \"Directly addresses 'Poor quality items' by offering specific resolution.\",\n",
      "        \"Aims to replace negative experience with a positive one.\"\n",
      "      ]\n",
      "    },\n",
      "    {\n",
      "      \"action_type\": \"Incentive & Re-engagement\",\n",
      "      \"description\": \"Provide a compelling incentive to encourage a return purchase or continued engagement. Since membership type and points are key, consider a significant points bonus (e.g., 500-1000 points) or a complimentary upgrade to a higher-tier membership for a limited period, coupled with an exclusive discount on a hand-picked, high-quality item relevant to his past purchases, ensuring it's not from the same batch/supplier that caused issues.\",\n",
      "      \"priority\": \"MEDIUM\",\n",
      "      \"personalized_elements\": [\n",
      "        \"Addresses potential lack of loyalty points/basic membership status.\",\n",
      "        \"Targets re-engagement with a specific, high-quality product recommendation.\",\n",
      "        \"Acknowledges age/demographic with potentially value-driven offers.\"\n",
      "      ]\n",
      "    },\n",
      "    {\n",
      "      \"action_type\": \"Feedback Loop & Prevention\",\n",
      "      \"description\": \"Assure the customer that his feedback is being taken seriously and will be used to improve product quality. Follow up after the resolution to ensure satisfaction and potentially invite him to participate in a 'beta testing' or 'exclusive preview' program for new, rigorously vetted products, making him feel valued and heard.\",\n",
      "      \"priority\": \"MEDIUM\",\n",
      "      \"personalized_elements\": [\n",
      "        \"Directly links actions to his 'Poor quality items' feedback.\",\n",
      "        \"Empowers him by making him part of the solution/improvement process.\"\n",
      "      ]\n",
      "    }\n",
      "  ],\n",
      "  \"justification\": \"This strategy prioritizes immediate and direct action to address the customer's explicit grievance regarding 'Poor quality items,' which is a critical churn indicator. By providing personalized support and a tangible resolution, we aim to rebuild trust. The incentive focuses on core retention factors (points, membership) and encourages re-engagement with assured quality. The follow-up reinforces that his feedback is valued, transforming a negative experience into a potential long-term loyalty opportunity for this high-risk, young male customer.\",\n",
      "  \"email proposal\": \"Subject: We're Here to Make Things Right: Regarding Your Recent Feedback\\n\\nDear [Customer Name],\\n\\nWe recently received your valuable feedback regarding 'Poor quality items' and genuinely apologize for any disappointment or inconvenience this may have caused. Your experience is important to us, and we are committed to ensuring the highest quality for our customers.\\n\\nA member of our dedicated Customer Success team, [Agent Name], will be reaching out to you shortly to better understand the specifics of your feedback and the items affected. We want to ensure we resolve this to your complete satisfaction, whether that means a replacement, a refund, or a credit.\\n\\nAs a token of our commitment to your satisfaction and to demonstrate our confidence in our improved offerings, we'd also like to offer you [Specific Offer: e.g., an additional 500 points to your account and a special 20% discount on your next purchase of any item from our 'Premium Collection']. We value your business and hope to regain your trust.\\n\\nSincerely,\\nThe [Your Company] Team\"\n",
      "}\n",
      "```\n"
     ]
    }
   ],
   "source": [
    "print(response.text)"
   ]
  },
  {
   "cell_type": "code",
   "execution_count": null,
   "id": "8115a8b1",
   "metadata": {},
   "outputs": [],
   "source": []
  }
 ],
 "metadata": {
  "kernelspec": {
   "display_name": "data_analysis_env",
   "language": "python",
   "name": "python3"
  },
  "language_info": {
   "codemirror_mode": {
    "name": "ipython",
    "version": 3
   },
   "file_extension": ".py",
   "mimetype": "text/x-python",
   "name": "python",
   "nbconvert_exporter": "python",
   "pygments_lexer": "ipython3",
   "version": "3.11.11"
  }
 },
 "nbformat": 4,
 "nbformat_minor": 5
}
