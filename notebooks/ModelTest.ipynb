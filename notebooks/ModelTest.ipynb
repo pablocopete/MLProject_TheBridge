{
 "cells": [
  {
   "cell_type": "code",
   "execution_count": 1,
   "id": "0f2611ba",
   "metadata": {},
   "outputs": [],
   "source": [
    "import numpy as np\n",
    "import pandas as pd\n",
    "import matplotlib.pyplot as plt\n",
    "\n",
    "from sklearn.ensemble import RandomForestClassifier, VotingClassifier\n",
    "from sklearn.linear_model import LogisticRegression\n",
    "from sklearn.neighbors import KNeighborsClassifier\n",
    "from xgboost import XGBClassifier, XGBRFClassifier\n",
    "from sklearn.svm import LinearSVC\n",
    "from sklearn.model_selection import GridSearchCV, StratifiedKFold\n",
    "from sklearn.metrics import accuracy_score, confusion_matrix, precision_score, recall_score, f1_score\n",
    "\n",
    "from sklearn.metrics import accuracy_score, confusion_matrix\n",
    "import pickle\n",
    "\n",
    "from sklearn.inspection import PartialDependenceDisplay\n",
    "import seaborn as sns"
   ]
  },
  {
   "cell_type": "code",
   "execution_count": 2,
   "id": "827cd609",
   "metadata": {},
   "outputs": [],
   "source": [
    "# Load the model\n",
    "with open('../model/strategy2_group_target/outliers_99/best_all3.pkl', 'rb') as file:\n",
    "    model = pickle.load(file)"
   ]
  },
  {
   "cell_type": "code",
   "execution_count": 3,
   "id": "5d8c3e33",
   "metadata": {},
   "outputs": [],
   "source": [
    "# Load test data\n",
    "X_test = pd.read_csv('../data/processed/outliers_99/X_test.csv', index_col=0).reset_index().drop(['index'], axis=1)\n",
    "y_test = pd.read_csv('../data/processed/outliers_99/y_test.csv', index_col=0).reset_index().drop(['index'], axis=1)"
   ]
  },
  {
   "cell_type": "code",
   "execution_count": 4,
   "id": "93586cf9",
   "metadata": {},
   "outputs": [],
   "source": [
    "target_dict = {-1: 'Low risk', 0:'Low risk', 1:'Low risk', 2:'Moderate_risk', 3:'Moderate_risk', 4:'High risk', 5:'High risk'}\n",
    "target_list = ['Low risk', 'Moderate_risk', 'High risk']\n",
    "y_test = y_test['churn_risk_score'].map(target_dict)"
   ]
  },
  {
   "cell_type": "code",
   "execution_count": 5,
   "id": "8ad75b38",
   "metadata": {},
   "outputs": [
    {
     "data": {
      "text/plain": [
       "High risk        4132\n",
       "Moderate_risk    2572\n",
       "Low risk          695\n",
       "Name: count, dtype: int64"
      ]
     },
     "execution_count": 5,
     "metadata": {},
     "output_type": "execute_result"
    }
   ],
   "source": [
    "# Predict\n",
    "y_pred = pd.Series(model.predict(X_test))\n",
    "# y_pred = y_pred.map(target_dict)\n",
    "y_pred.value_counts()"
   ]
  },
  {
   "cell_type": "code",
   "execution_count": 6,
   "id": "8e92948a",
   "metadata": {},
   "outputs": [
    {
     "name": "stdout",
     "output_type": "stream",
     "text": [
      "Accuracy: 0.8839032301662387\n",
      "Precision: 0.8813847812176073\n",
      "Recall: 0.8839032301662387\n",
      "F1_score: 0.882324712769321\n"
     ]
    },
    {
     "data": {
      "text/plain": [
       "array([[3817,    0,  186],\n",
       "       [ 130,  485,  148],\n",
       "       [ 185,  210, 2238]])"
      ]
     },
     "execution_count": 6,
     "metadata": {},
     "output_type": "execute_result"
    }
   ],
   "source": [
    "# Metrics\n",
    "print(f'Accuracy: {accuracy_score(y_true=y_test, y_pred=y_pred)}')\n",
    "print(f'Precision: {precision_score(y_true=y_test, y_pred=y_pred, average=\"weighted\")}')\n",
    "print(f'Recall: {recall_score(y_true=y_test, y_pred=y_pred, average=\"weighted\")}')\n",
    "print(f'F1_score: {f1_score(y_true=y_test, y_pred=y_pred, average=\"weighted\")}')\n",
    "confusion_matrix(y_true=y_test, y_pred=y_pred)"
   ]
  },
  {
   "cell_type": "code",
   "execution_count": null,
   "id": "afd07009",
   "metadata": {},
   "outputs": [],
   "source": []
  }
 ],
 "metadata": {
  "kernelspec": {
   "display_name": "data_analysis_env",
   "language": "python",
   "name": "python3"
  },
  "language_info": {
   "codemirror_mode": {
    "name": "ipython",
    "version": 3
   },
   "file_extension": ".py",
   "mimetype": "text/x-python",
   "name": "python",
   "nbconvert_exporter": "python",
   "pygments_lexer": "ipython3",
   "version": "3.11.11"
  }
 },
 "nbformat": 4,
 "nbformat_minor": 5
}
