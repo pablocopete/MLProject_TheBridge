{
 "cells": [
  {
   "cell_type": "markdown",
   "id": "060bb941",
   "metadata": {},
   "source": [
    "### 1. Carga de los datos\n",
    "### 2. Nos deshacemos de datos inutiles\n",
    "En esta categoría entran datos como el user_id o el nombre\n",
    "\n",
    "### 3. Análisis de los datos\n",
    "En esta parte observamos los datos y nos damos cuenta de valores anómalos, como por ejemplo valores negativos en el número de punto\n",
    "\n",
    "### 4. Utilizar imputers para los NaN\n",
    "En este caso se ha decidido sustituir los valores faltantes de las columnas avg por outliers\n",
    "\n",
    "### 5. Encoders para la columnas categóricas\n",
    "En este caso se ha utilizado el One-Hot encoder para todas las categorías no binarias. En el caso de algunas columnas se han probado varias estrategias, pero el One-Hot encoder ha resultado la estrategia más adecuada\n",
    "\n",
    "### 6. Normalización de los datos\n",
    "\n",
    "### 7. Entrenamiento de modelos\n",
    "El problema se trata de clasificar el churn rate de distintas personas en una pagina web (del -1 al 5). Se puede abordar como un problema de clasificación o uno de regresión. Hemos decidido afrontarlo como un problema de clasificación\n",
    "\n",
    "Hemos empleado GridSearchCV con los siguientes modelos: RandomForestClassifier, LogisticRegression, XGBClassifier, KNeighborsClassifier, LinearSVC\n",
    "\n",
    "Además hemos empleado un VotingClassifier con los anteriormente mencionados.\n",
    "\n",
    "Los mejores resultados han sido obtenidos con el VotingClassifier con un soft voting.\n",
    "\n",
    "Se ha alcanzado un 76% de accuracy\n",
    "\n",
    "### 8. Redefinición del objetivo\n",
    "Para poder alcanzar mejor precisión se ha decidido reclasificar el target en riesgo bajo, moderado y alto\n",
    "Con este nuevo target se han entrenado de nuevo el mismo tipo de modelos.\n",
    "Se ha obtenido una precisión del 88% tanto con el set de validación\n",
    "\n",
    "### 9. Feature importance\n",
    "Se ha obtenido el feature importance del modelo. \n",
    "Las características más importantes eran el número de puntos, el tipo de membresía y el tipo de feedback dejado\n",
    "Se ha entrenado un modelo linear de regresión para ver como afectaba cada característica a la predicción\n",
    "Como cabía esperar, los factores que ayudan a la retención son:\n",
    "- Muchos puntos en la cartera\n",
    "- Membresías más premium\n",
    "- Haber dejado feedback positivo\n",
    "\n",
    "### 10. Testeo del modelo\n",
    "Se ha obtenido un 88% de accuracy con el set de test.\n",
    "También se han empleado métricas como precision, recall, f1-score y confusion_matrix\n",
    "\n",
    "### 11. Preparación de scripts\n",
    "Se han preparado distintos scripts con funciones auxiliares, estas sirven para cargar el modelo y llamarlo\n",
    "También se han creado funciones que llaman a la API de Gemini, lo cual sirve para proponer una estrategia para retener al cliente y proponer un email\n",
    "\n",
    "### 12. Despliegue en streamlit\n"
   ]
  },
  {
   "cell_type": "markdown",
   "id": "fad4e41e",
   "metadata": {},
   "source": []
  }
 ],
 "metadata": {
  "language_info": {
   "name": "python"
  }
 },
 "nbformat": 4,
 "nbformat_minor": 5
}
